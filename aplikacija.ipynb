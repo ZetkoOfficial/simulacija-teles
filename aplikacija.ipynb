{
 "cells": [
  {
   "cell_type": "code",
   "execution_count": 1,
   "metadata": {},
   "outputs": [],
   "source": [
    "import ipywidgets as widgets\n",
    "import horizon_api\n",
    "import json\n",
    "\n",
    "MAPA_TELES = \"telesa/\""
   ]
  },
  {
   "attachments": {},
   "cell_type": "markdown",
   "metadata": {},
   "source": [
    "# Simulacija nebesnih teles"
   ]
  },
  {
   "attachments": {},
   "cell_type": "markdown",
   "metadata": {},
   "source": [
    "## Prenos nebesnih teles\n",
    "Izberite datum, za katerega želite prenesti podatke o nebesnih telesih in s pritiskom na gumb generirajte datoteko za izbrano nebesno telo."
   ]
  },
  {
   "cell_type": "code",
   "execution_count": 10,
   "metadata": {},
   "outputs": [
    {
     "data": {
      "application/vnd.jupyter.widget-view+json": {
       "model_id": "5b9aee9d097f4d778cdb4f41c6313604",
       "version_major": 2,
       "version_minor": 0
      },
      "text/plain": [
       "Text(value='', description='Ime telesa')"
      ]
     },
     "metadata": {},
     "output_type": "display_data"
    },
    {
     "data": {
      "application/vnd.jupyter.widget-view+json": {
       "model_id": "a9212e59254040f9be035e7d0d36eee2",
       "version_major": 2,
       "version_minor": 0
      },
      "text/plain": [
       "Dropdown(description='Izbira telesa:', options=(), value=None)"
      ]
     },
     "metadata": {},
     "output_type": "display_data"
    },
    {
     "data": {
      "application/vnd.jupyter.widget-view+json": {
       "model_id": "dd17021adec24568b0de75aa4520ce37",
       "version_major": 2,
       "version_minor": 0
      },
      "text/plain": [
       "Output(layout=Layout(border_bottom='1px solid black', border_left='1px solid black', border_right='1px solid b…"
      ]
     },
     "metadata": {},
     "output_type": "display_data"
    },
    {
     "name": "stdout",
     "output_type": "stream",
     "text": [
      "(649586681.4289607, 355992334.4863436, -15987306.73162231)\n"
     ]
    }
   ],
   "source": [
    "slovar_teles = horizon_api.search_body()\n",
    "datum = input(\"zapišite izbran datum v formatu yyyy-mm-dd\")\n",
    "\n",
    "text_ime_telesa = widgets.Text(description=\"Ime telesa\")\n",
    "dropdown_izbira = widgets.Dropdown(\n",
    "    options=[],\n",
    "    description='Izbira telesa:',\n",
    ")\n",
    "out = widgets.Output(layout={'border': '1px solid black', 'padding': \"10px\"})\n",
    "\n",
    "# populira dropdown z najdenimi ključi za iskan niz\n",
    "def najdi_telo(t):\n",
    "    ime_telesa = str(t.value).capitalize()\n",
    "    \n",
    "    if ime_telesa in slovar_teles.keys():   najdeno = {ime_telesa: slovar_teles[ime_telesa]}\n",
    "    else:                                   najdeno = horizon_api.search_body(ime_telesa)\n",
    "    \n",
    "    out.clear_output(); dropdown_izbira.value=None\n",
    "    if not najdeno: \n",
    "        with out: print(\"Žal nismo našli nobeno telo z tem ključem...\") \n",
    "    else:\n",
    "        with out: print(\"Izberite želeno telo s seznama\") \n",
    "        dropdown_izbira.options = najdeno.keys()\n",
    "\n",
    "# na disku ustvari datoteko ki predstavlja izbrano telo\n",
    "def ustvari_telo(t):\n",
    "    if t['new'] != t['old'] and t['new']:\n",
    "        name = t['new']\n",
    "        json_data = horizon_api.get_body_json(slovar_teles[name], datum, name=name)\n",
    "\n",
    "        with open(f\"{MAPA_TELES}telo_{name}.json\", \"w\", encoding=\"utf-8\") as f:\n",
    "            json.dump(json_data, f, indent=4)\n",
    "        out.clear_output()\n",
    "\n",
    "        if json_data['mass'] == 0 or json_data[\"radius\"] == 0 or len(json_data[\"x_vec\"]) == 0 or len(json_data[\"v_vec\"]) == 0:\n",
    "            with out: print(\"Telo ustvarjeno! (manjkajo ključni podatki)\")\n",
    "        else:\n",
    "            with out: print(\"Telo ustvarjeno!\") \n",
    "        \n",
    "\n",
    "text_ime_telesa.on_submit(najdi_telo)\n",
    "dropdown_izbira.observe(ustvari_telo, names=\"value\")\n",
    "\n",
    "display(text_ime_telesa)\n",
    "display(dropdown_izbira)\n",
    "display(out)"
   ]
  },
  {
   "cell_type": "code",
   "execution_count": null,
   "metadata": {},
   "outputs": [],
   "source": []
  }
 ],
 "metadata": {
  "kernelspec": {
   "display_name": "Python 3",
   "language": "python",
   "name": "python3"
  },
  "language_info": {
   "codemirror_mode": {
    "name": "ipython",
    "version": 3
   },
   "file_extension": ".py",
   "mimetype": "text/x-python",
   "name": "python",
   "nbconvert_exporter": "python",
   "pygments_lexer": "ipython3",
   "version": "3.8.10"
  },
  "orig_nbformat": 4
 },
 "nbformat": 4,
 "nbformat_minor": 2
}
