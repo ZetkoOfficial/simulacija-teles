{
 "cells": [
  {
   "cell_type": "code",
   "execution_count": 1,
   "metadata": {},
   "outputs": [],
   "source": [
    "import matplotlib.pyplot as plt\n",
    "import math\n",
    "import ipywidgets as widgets\n",
    "import horizon_api\n",
    "import json\n",
    "import os\n",
    "\n",
    "MAPA_TELES = \"telesa/\""
   ]
  },
  {
   "attachments": {},
   "cell_type": "markdown",
   "metadata": {},
   "source": [
    "# Simulacija nebesnih teles"
   ]
  },
  {
   "attachments": {},
   "cell_type": "markdown",
   "metadata": {},
   "source": [
    "## Prenos nebesnih teles\n",
    "Poženite spodnji blok da lahko ustvatite datoteke za izbrana telsa na datum ki ga vnesete."
   ]
  },
  {
   "cell_type": "code",
   "execution_count": null,
   "metadata": {},
   "outputs": [],
   "source": [
    "slovar_teles = horizon_api.search_body()\n",
    "datum = input(\"zapišite izbran datum v formatu yyyy-mm-dd\")\n",
    "\n",
    "text_ime_telesa = widgets.Text(description=\"Ime telesa\")\n",
    "dropdown_izbira = widgets.Dropdown(\n",
    "    options=[],\n",
    "    description='Izbira telesa:',\n",
    ")\n",
    "out = widgets.Output(layout={'border': '1px solid black', 'padding': \"10px\"})\n",
    "\n",
    "# populira dropdown z najdenimi ključi za iskan niz\n",
    "def najdi_telo(t):\n",
    "    ime_telesa = str(t.value).capitalize()\n",
    "    \n",
    "    if ime_telesa in slovar_teles.keys():   najdeno = {ime_telesa: slovar_teles[ime_telesa]}\n",
    "    else:                                   najdeno = horizon_api.search_body(ime_telesa)\n",
    "    \n",
    "    out.clear_output(); dropdown_izbira.value=None\n",
    "    if not najdeno: \n",
    "        with out: print(\"Žal nismo našli nobeno telo z tem ključem...\") \n",
    "    else:\n",
    "        with out: print(\"Izberite želeno telo s seznama\") \n",
    "        dropdown_izbira.options = najdeno.keys()\n",
    "\n",
    "# na disku ustvari datoteko ki predstavlja izbrano telo\n",
    "def ustvari_telo(t):\n",
    "    if t['new'] != t['old'] and t['new']:\n",
    "        name = t['new']\n",
    "        json_data = horizon_api.get_body_json(slovar_teles[name], datum, name=name)\n",
    "\n",
    "        with open(f\"{MAPA_TELES}telo_{name}.json\", \"w\", encoding=\"utf-8\") as f:\n",
    "            json.dump(json_data, f, indent=4)\n",
    "        out.clear_output()\n",
    "\n",
    "        if json_data['mass'] == 0 or json_data[\"radius\"] == 0 or len(json_data[\"x_vec\"]) == 0 or len(json_data[\"v_vec\"]) == 0:\n",
    "            with out: print(\"Telo ustvarjeno! (manjkajo ključni podatki)\")\n",
    "        else:\n",
    "            with out: print(\"Telo ustvarjeno!\") \n",
    "        \n",
    "\n",
    "text_ime_telesa.on_submit(najdi_telo)\n",
    "dropdown_izbira.observe(ustvari_telo, names=\"value\")\n",
    "\n",
    "display(text_ime_telesa)\n",
    "display(dropdown_izbira)\n",
    "display(out)"
   ]
  },
  {
   "attachments": {},
   "cell_type": "markdown",
   "metadata": {},
   "source": [
    "## Primerjava nebesnih teles po polmeru in velikosti\n",
    "Prvi blok prenesena telesa parsira in jih srani v seznam, nasledji blok pa za izbrana nariše grafike, ki jih lahko uporabnik prenese."
   ]
  },
  {
   "cell_type": "code",
   "execution_count": 7,
   "metadata": {},
   "outputs": [],
   "source": [
    "# naložimo vsa prenesena telesa in priredimo barve telesom glede na naraščajoč polmer\n",
    "prenesena_telesa = []\n",
    "\n",
    "cm = plt.get_cmap('gist_rainbow')\n",
    "for datoteka in list(os.listdir(MAPA_TELES)):\n",
    "    with open(os.path.join(MAPA_TELES, datoteka)) as f:\n",
    "        prenesena_telesa.append(json.load(f))\n",
    "\n",
    "prenesena_telesa = sorted(prenesena_telesa, key=lambda x: x[\"radius\"])\n",
    "for i in range(len(prenesena_telesa)):\n",
    "    prenesena_telesa[i][\"color\"] = cm(i/len(prenesena_telesa))"
   ]
  },
  {
   "cell_type": "code",
   "execution_count": 6,
   "metadata": {
    "scrolled": false
   },
   "outputs": [
    {
     "data": {
      "application/vnd.jupyter.widget-view+json": {
       "model_id": "f8a9b8339fca48338d29494a337c9bb1",
       "version_major": 2,
       "version_minor": 0
      },
      "text/plain": [
       "SelectMultiple(description='Izbira teles za prikaz grafik', options=(('Pluto', 0), ('Mercury', 1), ('Mars', 2)…"
      ]
     },
     "metadata": {},
     "output_type": "display_data"
    },
    {
     "data": {
      "application/vnd.jupyter.widget-view+json": {
       "model_id": "a93d2f7499ce4fb8b9c5c70696bb8876",
       "version_major": 2,
       "version_minor": 0
      },
      "text/plain": [
       "Button(description='Ustvari grafiki', style=ButtonStyle())"
      ]
     },
     "metadata": {},
     "output_type": "display_data"
    }
   ],
   "source": [
    "dropdown_grafike = widgets.SelectMultiple(\n",
    "    options=[(telo[\"name\"], i) for i, telo in enumerate(prenesena_telesa)],\n",
    "    description='Izbira teles za prikaz grafik',\n",
    "    rows = 10,\n",
    ")\n",
    "\n",
    "btn_narisi = widgets.Button(description='Ustvari grafiki')\n",
    "\n",
    "# nariše grafiki za polmere in mase\n",
    "def ustvari_primerjavo(t):\n",
    "    # izbiro uredimo po velikosti polmerov\n",
    "    izbira = [prenesena_telesa[i] for i in dropdown_grafike.value]\n",
    "    izbira = sorted(izbira, key=lambda x: x[\"radius\"])\n",
    "\n",
    "    # narišemo grafiko velikosti\n",
    "    graf_velikosti, graf_velikosti_axis = plt.subplots()\n",
    "    x = 0\n",
    "    for telo in izbira:\n",
    "        x += telo[\"radius\"]\n",
    "        circ = plt.Circle((x,0),telo[\"radius\"], color=telo[\"color\"], label=telo[\"name\"])\n",
    "        x += telo[\"radius\"]\n",
    "\n",
    "        graf_velikosti_axis.add_patch(circ)\n",
    "        graf_velikosti_axis.legend()\n",
    "\n",
    "    graf_velikosti.set_figwidth(15)\n",
    "    graf_velikosti_axis.autoscale(); graf_velikosti_axis.set_xticks([])\n",
    "    graf_velikosti_axis.set_aspect('equal', adjustable='box')\n",
    "\n",
    "    # narišemo grafiko mase\n",
    "    graf_mase, graf_mase_axis = plt.subplots()\n",
    "    bars = graf_mase_axis.bar([telo[\"name\"] for telo in izbira], [math.log(telo[\"mass\"]) for telo in izbira])\n",
    "    for i, bar in enumerate(bars): bar.set_color(izbira[i][\"color\"])\n",
    "\n",
    "    graf_mase.set_figwidth(15); graf_mase_axis.autoscale()\n",
    "    graf_mase_axis.set_ylabel(\"20*log(kg)\")\n",
    "\n",
    "display(dropdown_grafike); display(btn_narisi)\n",
    "btn_narisi.on_click(ustvari_primerjavo)"
   ]
  }
 ],
 "metadata": {
  "kernelspec": {
   "display_name": "Python 3 (ipykernel)",
   "language": "python",
   "name": "python3"
  },
  "language_info": {
   "codemirror_mode": {
    "name": "ipython",
    "version": 3
   },
   "file_extension": ".py",
   "mimetype": "text/x-python",
   "name": "python",
   "nbconvert_exporter": "python",
   "pygments_lexer": "ipython3",
   "version": "3.8.10"
  }
 },
 "nbformat": 4,
 "nbformat_minor": 2
}
